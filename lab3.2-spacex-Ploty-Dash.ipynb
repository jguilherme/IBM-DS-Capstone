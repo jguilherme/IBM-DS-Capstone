{
    "cells": [
        {
            "metadata": {},
            "id": "0042e023-270e-42a1-a8f8-00b5da998d98",
            "cell_type": "markdown",
            "source": "## SpaceY Dash"
        },
        {
            "metadata": {},
            "id": "dcbb93cf-90ec-4151-96a8-b7c6871bdda7",
            "cell_type": "code",
            "source": "# Import required libraries\nimport pandas as pd\nimport dash\nimport dash_html_components as html\nimport dash_core_components as dcc\nfrom dash.dependencies import Input, Output\nimport plotly.graph_objects as go\nimport plotly.express as px",
            "execution_count": 1,
            "outputs": []
        },
        {
            "metadata": {},
            "id": "14e6947b-836e-46b9-bc95-d2748a9b38b8",
            "cell_type": "code",
            "source": "# OP 1 - Create a dash application\n# app = dash.Dash(__name__)\n# OP 2 - JupyterDash\nfrom jupyter_dash import JupyterDash\napp = JupyterDash(__name__)",
            "execution_count": 3,
            "outputs": []
        },
        {
            "metadata": {},
            "id": "9dfc9834-db2a-4568-926a-93e96b354e0d",
            "cell_type": "code",
            "source": "# Read the airline data into pandas dataframe\nspacex_df = pd.read_csv(\"spacex_launch_dash.csv\")\nmax_payload = spacex_df['Payload Mass (kg)'].max()\nmin_payload = spacex_df['Payload Mass (kg)'].min()",
            "execution_count": 4,
            "outputs": []
        },
        {
            "metadata": {},
            "id": "ab25d37a-7da2-40f7-9096-c06d5290392d",
            "cell_type": "code",
            "source": "spacex_df.head(20)",
            "execution_count": 5,
            "outputs": [
                {
                    "data": {
                        "text/html": "<div>\n<style scoped>\n    .dataframe tbody tr th:only-of-type {\n        vertical-align: middle;\n    }\n\n    .dataframe tbody tr th {\n        vertical-align: top;\n    }\n\n    .dataframe thead th {\n        text-align: right;\n    }\n</style>\n<table border=\"1\" class=\"dataframe\">\n  <thead>\n    <tr style=\"text-align: right;\">\n      <th></th>\n      <th>Unnamed: 0</th>\n      <th>Flight Number</th>\n      <th>Launch Site</th>\n      <th>Mission Outcome</th>\n      <th>class</th>\n      <th>Payload Mass (kg)</th>\n      <th>Booster Version</th>\n      <th>Booster Version Category</th>\n    </tr>\n  </thead>\n  <tbody>\n    <tr>\n      <th>0</th>\n      <td>0</td>\n      <td>1</td>\n      <td>CCAFS LC-40</td>\n      <td>Success</td>\n      <td>0</td>\n      <td>0.0</td>\n      <td>F9 v1.0  B0003</td>\n      <td>v1.0</td>\n    </tr>\n    <tr>\n      <th>1</th>\n      <td>1</td>\n      <td>2</td>\n      <td>CCAFS LC-40</td>\n      <td>Success</td>\n      <td>0</td>\n      <td>0.0</td>\n      <td>F9 v1.0  B0004</td>\n      <td>v1.0</td>\n    </tr>\n    <tr>\n      <th>2</th>\n      <td>2</td>\n      <td>3</td>\n      <td>CCAFS LC-40</td>\n      <td>Success</td>\n      <td>0</td>\n      <td>525.0</td>\n      <td>F9 v1.0  B0005</td>\n      <td>v1.0</td>\n    </tr>\n    <tr>\n      <th>3</th>\n      <td>3</td>\n      <td>4</td>\n      <td>CCAFS LC-40</td>\n      <td>Success</td>\n      <td>0</td>\n      <td>500.0</td>\n      <td>F9 v1.0  B0006</td>\n      <td>v1.0</td>\n    </tr>\n    <tr>\n      <th>4</th>\n      <td>4</td>\n      <td>5</td>\n      <td>CCAFS LC-40</td>\n      <td>Success</td>\n      <td>0</td>\n      <td>677.0</td>\n      <td>F9 v1.0  B0007</td>\n      <td>v1.0</td>\n    </tr>\n    <tr>\n      <th>5</th>\n      <td>5</td>\n      <td>7</td>\n      <td>CCAFS LC-40</td>\n      <td>Success</td>\n      <td>0</td>\n      <td>3170.0</td>\n      <td>F9 v1.1</td>\n      <td>v1.1</td>\n    </tr>\n    <tr>\n      <th>6</th>\n      <td>6</td>\n      <td>8</td>\n      <td>CCAFS LC-40</td>\n      <td>Success</td>\n      <td>0</td>\n      <td>3325.0</td>\n      <td>F9 v1.1</td>\n      <td>v1.1</td>\n    </tr>\n    <tr>\n      <th>7</th>\n      <td>7</td>\n      <td>9</td>\n      <td>CCAFS LC-40</td>\n      <td>Success</td>\n      <td>0</td>\n      <td>2296.0</td>\n      <td>F9 v1.1</td>\n      <td>v1.1</td>\n    </tr>\n    <tr>\n      <th>8</th>\n      <td>8</td>\n      <td>10</td>\n      <td>CCAFS LC-40</td>\n      <td>Success</td>\n      <td>0</td>\n      <td>1316.0</td>\n      <td>F9 v1.1</td>\n      <td>v1.1</td>\n    </tr>\n    <tr>\n      <th>9</th>\n      <td>9</td>\n      <td>11</td>\n      <td>CCAFS LC-40</td>\n      <td>Success</td>\n      <td>0</td>\n      <td>4535.0</td>\n      <td>F9 v1.1</td>\n      <td>v1.1</td>\n    </tr>\n    <tr>\n      <th>10</th>\n      <td>10</td>\n      <td>12</td>\n      <td>CCAFS LC-40</td>\n      <td>Success</td>\n      <td>0</td>\n      <td>4428.0</td>\n      <td>F9 v1.1 B1011</td>\n      <td>v1.1</td>\n    </tr>\n    <tr>\n      <th>11</th>\n      <td>11</td>\n      <td>13</td>\n      <td>CCAFS LC-40</td>\n      <td>Success</td>\n      <td>0</td>\n      <td>2216.0</td>\n      <td>F9 v1.1 B1010</td>\n      <td>v1.1</td>\n    </tr>\n    <tr>\n      <th>12</th>\n      <td>12</td>\n      <td>14</td>\n      <td>CCAFS LC-40</td>\n      <td>Success</td>\n      <td>0</td>\n      <td>2395.0</td>\n      <td>F9 v1.1 B1012</td>\n      <td>v1.1</td>\n    </tr>\n    <tr>\n      <th>13</th>\n      <td>13</td>\n      <td>15</td>\n      <td>CCAFS LC-40</td>\n      <td>Success</td>\n      <td>0</td>\n      <td>570.0</td>\n      <td>F9 v1.1 B1013</td>\n      <td>v1.1</td>\n    </tr>\n    <tr>\n      <th>14</th>\n      <td>14</td>\n      <td>16</td>\n      <td>CCAFS LC-40</td>\n      <td>Success</td>\n      <td>0</td>\n      <td>4159.0</td>\n      <td>F9 v1.1 B1014</td>\n      <td>v1.1</td>\n    </tr>\n    <tr>\n      <th>15</th>\n      <td>15</td>\n      <td>17</td>\n      <td>CCAFS LC-40</td>\n      <td>Success</td>\n      <td>0</td>\n      <td>1898.0</td>\n      <td>F9 v1.1 B1015</td>\n      <td>v1.1</td>\n    </tr>\n    <tr>\n      <th>16</th>\n      <td>16</td>\n      <td>18</td>\n      <td>CCAFS LC-40</td>\n      <td>Success</td>\n      <td>0</td>\n      <td>4707.0</td>\n      <td>F9 v1.1 B1016</td>\n      <td>v1.1</td>\n    </tr>\n    <tr>\n      <th>17</th>\n      <td>17</td>\n      <td>19</td>\n      <td>CCAFS LC-40</td>\n      <td>Failure  (in flight)</td>\n      <td>1</td>\n      <td>1952.0</td>\n      <td>F9 v1.1 B1018</td>\n      <td>v1.1</td>\n    </tr>\n    <tr>\n      <th>18</th>\n      <td>18</td>\n      <td>20</td>\n      <td>CCAFS LC-40</td>\n      <td>Success</td>\n      <td>1</td>\n      <td>2034.0</td>\n      <td>F9 FT B1019</td>\n      <td>FT</td>\n    </tr>\n    <tr>\n      <th>19</th>\n      <td>19</td>\n      <td>22</td>\n      <td>CCAFS LC-40</td>\n      <td>Success</td>\n      <td>0</td>\n      <td>5271.0</td>\n      <td>F9 FT B1020</td>\n      <td>FT</td>\n    </tr>\n  </tbody>\n</table>\n</div>",
                        "text/plain": "    Unnamed: 0  Flight Number  Launch Site       Mission Outcome  class  \\\n0            0              1  CCAFS LC-40               Success      0   \n1            1              2  CCAFS LC-40               Success      0   \n2            2              3  CCAFS LC-40               Success      0   \n3            3              4  CCAFS LC-40               Success      0   \n4            4              5  CCAFS LC-40               Success      0   \n5            5              7  CCAFS LC-40               Success      0   \n6            6              8  CCAFS LC-40               Success      0   \n7            7              9  CCAFS LC-40               Success      0   \n8            8             10  CCAFS LC-40               Success      0   \n9            9             11  CCAFS LC-40               Success      0   \n10          10             12  CCAFS LC-40               Success      0   \n11          11             13  CCAFS LC-40               Success      0   \n12          12             14  CCAFS LC-40               Success      0   \n13          13             15  CCAFS LC-40               Success      0   \n14          14             16  CCAFS LC-40               Success      0   \n15          15             17  CCAFS LC-40               Success      0   \n16          16             18  CCAFS LC-40               Success      0   \n17          17             19  CCAFS LC-40  Failure  (in flight)      1   \n18          18             20  CCAFS LC-40               Success      1   \n19          19             22  CCAFS LC-40               Success      0   \n\n    Payload Mass (kg) Booster Version Booster Version Category  \n0                 0.0  F9 v1.0  B0003                     v1.0  \n1                 0.0  F9 v1.0  B0004                     v1.0  \n2               525.0  F9 v1.0  B0005                     v1.0  \n3               500.0  F9 v1.0  B0006                     v1.0  \n4               677.0  F9 v1.0  B0007                     v1.0  \n5              3170.0         F9 v1.1                     v1.1  \n6              3325.0         F9 v1.1                     v1.1  \n7              2296.0         F9 v1.1                     v1.1  \n8              1316.0         F9 v1.1                     v1.1  \n9              4535.0         F9 v1.1                     v1.1  \n10             4428.0   F9 v1.1 B1011                     v1.1  \n11             2216.0   F9 v1.1 B1010                     v1.1  \n12             2395.0   F9 v1.1 B1012                     v1.1  \n13              570.0   F9 v1.1 B1013                     v1.1  \n14             4159.0   F9 v1.1 B1014                     v1.1  \n15             1898.0   F9 v1.1 B1015                     v1.1  \n16             4707.0   F9 v1.1 B1016                     v1.1  \n17             1952.0   F9 v1.1 B1018                     v1.1  \n18             2034.0     F9 FT B1019                       FT  \n19             5271.0     F9 FT B1020                       FT  "
                    },
                    "execution_count": 5,
                    "metadata": {},
                    "output_type": "execute_result"
                }
            ]
        },
        {
            "metadata": {},
            "id": "1da84b01-f820-4678-9a71-bc5b0191de83",
            "cell_type": "code",
            "source": "site_list = list(set(spacex_df['Launch Site'].values))\nsite_list.append('All Sites')\nsite_list",
            "execution_count": 6,
            "outputs": [
                {
                    "data": {
                        "text/plain": "['CCAFS SLC-40', 'VAFB SLC-4E', 'CCAFS LC-40', 'KSC LC-39A', 'All Sites']"
                    },
                    "execution_count": 6,
                    "metadata": {},
                    "output_type": "execute_result"
                }
            ]
        },
        {
            "metadata": {},
            "id": "1732ae1b-de7a-497d-bc57-ce84f5ccfa46",
            "cell_type": "code",
            "source": "# Create an app layout\napp.layout = html.Div(children=[html.H1('SpaceX Launch Records Dashboard',\n                                        style={'textAlign': 'center', 'color': '#503D36',\n                                               'font-size': 40}),\n                                # TASK 1: Add a dropdown list to enable Launch Site selection\n                                # The default select value is for ALL sites\n                                dcc.Dropdown(id='site-dropdown', value='All Sites',\n                                                     # Update dropdown values using list comphrehension\n                                                     options=[{'label': i, 'value': i} for i in site_list],\n                                                     placeholder=\"Select a launch site...\",\n                                                     searchable=True,\n                                                     style={'width':'80%', 'padding':'3px', 'font-size': '20px', 'text-align-last' : 'center'}),\n                                html.Br(),\n                                # TASK 2: Add a pie chart to show the total successful launches count for all sites\n                                # If a specific launch site was selected, show the Success vs. Failed counts for the site\n                                html.Div(dcc.Graph(id='success-pie-chart')),\n                                html.Br(),\n\n                                html.P(\"Payload range (Kg):\"),\n                                # TASK 3: Add a slider to select payload range\n                                dcc.RangeSlider(id='payload-slider', min=0, max=10000, step=1000, value=[min_payload, max_payload]),\n                                # TASK 4: Add a scatter chart to show the correlation between payload and launch success\n                                html.Div(dcc.Graph(id='success-payload-scatter-chart'))\n                                ])",
            "execution_count": 7,
            "outputs": []
        },
        {
            "metadata": {},
            "id": "32e96790-2559-4150-9194-3ad0734f50bd",
            "cell_type": "code",
            "source": "# TASK 2:\n# Add a callback function for `site-dropdown` as input, `success-pie-chart` as output\n@app.callback(\n                Output(component_id='success-pie-chart', component_property='figure')\n                , [\n                Input(component_id='site-dropdown', component_property='value')\n                ]\n              )\ndef get_pie_graph(site):\n    if site == 'All Sites':\n        div_data = spacex_df\n        pie_fig = px.pie(div_data, values='class', names='Launch Site', title='Total Success Launches By Site')\n    else:        \n        div_data = spacex_df[spacex_df['Launch Site']==site]\n        pie_fig = px.pie(div_data, values='Launch Site', names='class', title='Total Success Launches for site ')\n    return pie_fig\n\n# TASK 4:\n# Add a callback function for `site-dropdown` and `payload-slider` as inputs, `success-payload-scatter-chart` as output\n@app.callback(\n                Output(component_id='success-payload-scatter-chart', component_property='figure')\n                , [\n                Input(component_id='site-dropdown', component_property='value'), \n                Input(component_id=\"payload-slider\", component_property=\"value\")\n                ]\n              )\ndef get_scatter_graph(site, slider):\n    if site == 'All Sites':\n        line_data = spacex_df\n        line_data = line_data[spacex_df['Payload Mass (kg)']>=slider[0]]\n        line_data = line_data[spacex_df['Payload Mass (kg)']<slider[1]]\n        line_fig = px.scatter(line_data, x='Payload Mass (kg)', y='class', color='Booster Version Category', title='Correlation bteween Payload and Success for all Sites')\n    else:        \n        line_data = spacex_df[spacex_df['Launch Site']==site]\n        line_data = line_data[spacex_df['Payload Mass (kg)']>=slider[0]]\n        line_data = line_data[spacex_df['Payload Mass (kg)']<slider[1]]\n        line_fig = px.scatter(line_data, x='Payload Mass (kg)', y='class', color='Booster Version Category', title='Correlation bteween Payload and Success for all Sites')\n    return line_fig\n",
            "execution_count": 8,
            "outputs": []
        },
        {
            "metadata": {},
            "id": "55bb2aaa-59c0-4a84-96d8-2e4573e93be2",
            "cell_type": "code",
            "source": "# OP 1 - Run the server\n#if __name__ == '__main__':\n#    app.run_server()\n# OP 2 - JupyterDash\n#app.run_server(mode='inline', host=\"localhost\", debug=False, dev_tools_ui=False, dev_tools_props_check=False)\napp.run_server(mode='inline', host=\"localhost\", debug=False)",
            "execution_count": 9,
            "outputs": [
                {
                    "name": "stderr",
                    "output_type": "stream",
                    "text": " * Running on http://localhost:8050/ (Press CTRL+C to quit)\n127.0.0.1 - - [27/Aug/2021 19:53:04] \"\u001b[37mGET /_alive_3c46ccc3-d454-4b4c-b4c7-be1910f7b56f HTTP/1.1\u001b[0m\" 200 -\n"
                },
                {
                    "data": {
                        "text/html": "\n        <iframe\n            width=\"100%\"\n            height=\"650\"\n            src=\"http://localhost:8050/\"\n            frameborder=\"0\"\n            allowfullscreen\n        ></iframe>\n        ",
                        "text/plain": "<IPython.lib.display.IFrame at 0x7fd856737b50>"
                    },
                    "metadata": {},
                    "output_type": "display_data"
                }
            ]
        }
    ],
    "metadata": {
        "kernelspec": {
            "name": "python3",
            "display_name": "Python 3.8",
            "language": "python"
        },
        "language_info": {
            "name": "python",
            "version": "3.8.10",
            "mimetype": "text/x-python",
            "codemirror_mode": {
                "name": "ipython",
                "version": 3
            },
            "pygments_lexer": "ipython3",
            "nbconvert_exporter": "python",
            "file_extension": ".py"
        }
    },
    "nbformat": 4,
    "nbformat_minor": 5
}